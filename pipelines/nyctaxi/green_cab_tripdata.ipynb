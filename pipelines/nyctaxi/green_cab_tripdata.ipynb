{
 "cells": [
  {
   "cell_type": "markdown",
   "metadata": {
    "application/vnd.databricks.v1+cell": {
     "cellMetadata": {
      "byteLimit": 2048000,
      "rowLimit": 10000
     },
     "inputWidgets": {},
     "nuid": "1690ab72-aec5-48ec-bbfe-3046033c7133",
     "showTitle": false,
     "title": ""
    }
   },
   "source": [
    "### [User Input Required] Read CSV Source with Autoloader.\n",
    "\n",
    "__Common data loading patterns__: https://docs.databricks.com/en/ingestion/auto-loader/patterns.html\n",
    "\n",
    "__Autoloader Options for CSV__: https://docs.databricks.com/en/ingestion/auto-loader/options.html#csv-options\n",
    "\n",
    "__Common Autoloader Options__: https://docs.databricks.com/en/ingestion/auto-loader/options.html#common-auto-loader-options\n",
    "\n",
    "__Schema Evolution Modes__: https://docs.databricks.com/en/ingestion/auto-loader/schema.html#how-does-auto-loader-schema-evolution-work"
   ]
  },
  {
   "cell_type": "code",
   "execution_count": 0,
   "metadata": {
    "application/vnd.databricks.v1+cell": {
     "cellMetadata": {
      "byteLimit": 2048000,
      "rowLimit": 10000
     },
     "inputWidgets": {},
     "nuid": "46c4bc66-e6ed-41db-aaca-953d32a33dff",
     "showTitle": false,
     "title": ""
    }
   },
   "outputs": [
    {
     "output_type": "display_data",
     "data": {
      "text/html": [
       "\n",
       "    <html>\n",
       "      <div style=\"font-size:18px\">\n",
       "        The Delta Live Tables (DLT) module is not supported on this cluster.\n",
       "        You should either <a href=\"?o=984752964297111#joblist/pipelines/create?initialSource=%2FUsers%2Fguanjie.shen%40databricks.com%2Fdatabricks-dlt-framework%2Fpipelines%2Fnyctaxi%2Fgreen_cab_tripdata&redirectNotebookId=4246314222309619\">create a new pipeline</a> or use an existing pipeline to run DLT code.\n",
       "      </div>\n",
       "    </html>\n",
       "    "
      ]
     },
     "metadata": {},
     "output_type": "display_data"
    },
    {
     "output_type": "display_data",
     "data": {
      "text/plain": [
       "\u001B[0;31m---------------------------------------------------------------------------\u001B[0m\n",
       "\u001B[0;31mModuleNotFoundError\u001B[0m                       Traceback (most recent call last)\n",
       "File \u001B[0;32m<command-4246314222309621>, line 1\u001B[0m\n",
       "\u001B[0;32m----> 1\u001B[0m \u001B[38;5;28;01mimport\u001B[39;00m \u001B[38;5;21;01mdlt\u001B[39;00m\n",
       "\u001B[1;32m      3\u001B[0m \u001B[38;5;66;03m# [User Input Required] Set the input/output locations, metadata\u001B[39;00m\n",
       "\u001B[1;32m      4\u001B[0m input_location \u001B[38;5;241m=\u001B[39m \u001B[38;5;124m\"\u001B[39m\u001B[38;5;124mdbfs:/databricks-datasets/nyctaxi/tripdata/green\u001B[39m\u001B[38;5;124m\"\u001B[39m\n",
       "\n",
       "\u001B[0;31mModuleNotFoundError\u001B[0m: No module named 'dlt'"
      ]
     },
     "metadata": {
      "application/vnd.databricks.v1+output": {
       "addedWidgets": {},
       "arguments": {},
       "datasetInfos": [],
       "jupyterProps": {
        "ename": "ModuleNotFoundError",
        "evalue": "No module named 'dlt'"
       },
       "metadata": {
        "errorSummary": "<span class='ansi-red-fg'>ModuleNotFoundError</span>: No module named 'dlt'"
       },
       "removedWidgets": [],
       "sqlProps": null,
       "stackFrames": [
        "\u001B[0;31m---------------------------------------------------------------------------\u001B[0m",
        "\u001B[0;31mModuleNotFoundError\u001B[0m                       Traceback (most recent call last)",
        "File \u001B[0;32m<command-4246314222309621>, line 1\u001B[0m\n\u001B[0;32m----> 1\u001B[0m \u001B[38;5;28;01mimport\u001B[39;00m \u001B[38;5;21;01mdlt\u001B[39;00m\n\u001B[1;32m      3\u001B[0m \u001B[38;5;66;03m# [User Input Required] Set the input/output locations, metadata\u001B[39;00m\n\u001B[1;32m      4\u001B[0m input_location \u001B[38;5;241m=\u001B[39m \u001B[38;5;124m\"\u001B[39m\u001B[38;5;124mdbfs:/databricks-datasets/nyctaxi/tripdata/green\u001B[39m\u001B[38;5;124m\"\u001B[39m\n",
        "\u001B[0;31mModuleNotFoundError\u001B[0m: No module named 'dlt'"
       ],
       "type": "baseError"
      }
     },
     "output_type": "display_data"
    }
   ],
   "source": [
    "import dlt\n",
    "\n",
    "# [User Input Required] Set the input/output locations, metadata\n",
    "input_location = \"dbfs:/databricks-datasets/nyctaxi/tripdata/green\"\n",
    "output_table = \"bronze_nyctaxi_tripdata_green\"\n",
    "output_table_comments = \"Bronze data for green NYC taxi trips\"\n",
    "\n",
    "# [User Input Required] Configure schema evolution and rescue data.\n",
    "schema_evolution_mode = \"addNewColumns\"\n",
    "rescue_data_column_name = \"_rescued_data\"\n",
    "\n",
    "\n",
    "@dlt.view(name=f\"{output_table}_autoloader\")\n",
    "def tmp():\n",
    "  # [User Input Required] Configure Autoloader settings \n",
    "  df = (\n",
    "    spark.readStream.format(\"cloudFiles\")\n",
    "    .option(\"cloudFiles.format\", \"csv\")\n",
    "    .option(\"cloudFiles.schemaEvolutionMode\", schema_evolution_mode)\n",
    "    .option(\"cloudFiles.rescuedDataColumn\", rescue_data_column_name)\n",
    "    # Add additional autoloader settings below\n",
    "    # Add csv autoloader settings below\n",
    "    .option(\"header\", \"true\")\n",
    "    .option(\"inferSchema\",\"true\")\n",
    "    .load(input_location)\n",
    "  )\n",
    "  return df"
   ]
  },
  {
   "cell_type": "markdown",
   "metadata": {
    "application/vnd.databricks.v1+cell": {
     "cellMetadata": {
      "byteLimit": 2048000,
      "rowLimit": 10000
     },
     "inputWidgets": {},
     "nuid": "c44cece9-7813-4054-afed-4dddd846e97b",
     "showTitle": false,
     "title": ""
    }
   },
   "source": [
    "### [Optional User Input Required] Transformations + Write Data to Unity Catalog"
   ]
  },
  {
   "cell_type": "code",
   "execution_count": 0,
   "metadata": {
    "application/vnd.databricks.v1+cell": {
     "cellMetadata": {
      "byteLimit": 2048000,
      "rowLimit": 10000
     },
     "inputWidgets": {},
     "nuid": "71092f7c-ee19-4f12-b6e1-585cc3c8a804",
     "showTitle": false,
     "title": ""
    }
   },
   "outputs": [
    {
     "output_type": "stream",
     "name": "stdout",
     "output_type": "stream",
     "text": [
      "The column name(s) 'Trip_type', 'trip_type' are duplicated in dataset 'bronze_nyctaxi_tripdata_green'.\n"
     ]
    }
   ],
   "source": [
    "@dlt.table(name=output_table, comment=output_table_comments)\n",
    "def t():\n",
    "    # Read data from temporary autoloader table\n",
    "    df = spark.readStream.table(f\"live.{output_table}_autoloader\")\n",
    "\n",
    "    # [User Input Required] Optional Transformations\n",
    "    ## Rename Trip_type column to remove trailing space\n",
    "    df = df.withColumnRenamed(\"Trip_type \", \"trip_type\").drop(\"trip_type\")\n",
    "    return df"
   ]
  }
 ],
 "metadata": {
  "application/vnd.databricks.v1+notebook": {
   "dashboards": [],
   "environmentMetadata": null,
   "language": "python",
   "notebookMetadata": {
    "pythonIndentUnit": 2
   },
   "notebookName": "green_cab_tripdata",
   "widgets": {}
  }
 },
 "nbformat": 4,
 "nbformat_minor": 0
}
