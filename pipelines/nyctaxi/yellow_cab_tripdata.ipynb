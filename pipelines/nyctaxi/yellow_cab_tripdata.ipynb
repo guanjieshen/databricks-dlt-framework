{
 "cells": [
  {
   "cell_type": "markdown",
   "metadata": {
    "application/vnd.databricks.v1+cell": {
     "cellMetadata": {},
     "inputWidgets": {},
     "nuid": "382c87fe-b48e-404d-a0e8-6dcedfd5792b",
     "showTitle": false,
     "title": ""
    }
   },
   "source": [
    "### [User Input Required] Read CSV Source with Autoloader.\n",
    "\n",
    "__Common data loading patterns__: https://docs.databricks.com/en/ingestion/auto-loader/patterns.html\n",
    "\n",
    "__Autoloader Options for CSV__: https://docs.databricks.com/en/ingestion/auto-loader/options.html#csv-options\n",
    "\n",
    "__Common Autoloader Options__: https://docs.databricks.com/en/ingestion/auto-loader/options.html#common-auto-loader-options\n",
    "\n",
    "__Schema Evolution Modes__: https://docs.databricks.com/en/ingestion/auto-loader/schema.html#how-does-auto-loader-schema-evolution-work\n"
   ]
  },
  {
   "cell_type": "code",
   "execution_count": 0,
   "metadata": {
    "application/vnd.databricks.v1+cell": {
     "cellMetadata": {
      "byteLimit": 2048000,
      "rowLimit": 10000
     },
     "inputWidgets": {},
     "nuid": "b29a8ef1-e7af-4f96-aff1-30150982bd54",
     "showTitle": false,
     "title": ""
    }
   },
   "outputs": [],
   "source": [
    "CREATE TEMPORARY STREAMING LIVE VIEW autoloader_tmp_table AS\n",
    "SELECT\n",
    "  *\n",
    "FROM\n",
    "  STREAM READ_FILES(\n",
    "    'dbfs:/databricks-datasets/nyctaxi/tripdata/yellow',\n",
    "    format=>'csv',\n",
    "    header=>'true',\n",
    "    inferSchema=>'true',\n",
    "    delimiter=>',',\n",
    "    schemaEvolutionMode => 'addNewColumns',\n",
    "    rescuedDataColumn => '_rescued_data'  \n",
    "  );"
   ]
  },
  {
   "cell_type": "markdown",
   "metadata": {
    "application/vnd.databricks.v1+cell": {
     "cellMetadata": {},
     "inputWidgets": {},
     "nuid": "6a3b238d-6252-4b68-bfa0-ed5c770b7f00",
     "showTitle": false,
     "title": ""
    }
   },
   "source": [
    "### [User Input Required] Transformations + Write Data to Unity Catalog"
   ]
  },
  {
   "cell_type": "code",
   "execution_count": 0,
   "metadata": {
    "application/vnd.databricks.v1+cell": {
     "cellMetadata": {},
     "inputWidgets": {},
     "nuid": "7decbbb9-52eb-4786-9563-f13bf7256ca7",
     "showTitle": false,
     "title": ""
    }
   },
   "outputs": [],
   "source": [
    "CREATE OR REFRESH STREAMING TABLE bronze_nyctaxi_tripdata_yellow\n",
    "COMMENT \"NYC Taxi Trip Records - Yellow Taxi Trip Records\"\n",
    "AS SELECT * EXCEPT(` pickup_datetime`,` dropoff_datetime`,` passenger_count`,` trip_distance`,` pickup_longitude`,` pickup_latitude`,` rate_code`,` store_and_fwd_flag`,` dropoff_longitude`, ` dropoff_latitude`,` payment_type`,` fare_amount`,` mta_tax`,` tip_amount`,` tolls_amount`,` total_amount`, ` surcharge`) \n",
    "FROM stream(LIVE.autoloader_tmp_table)"
   ]
  }
 ],
 "metadata": {
  "application/vnd.databricks.v1+notebook": {
   "dashboards": [],
   "environmentMetadata": null,
   "language": "sql",
   "notebookMetadata": {
    "pythonIndentUnit": 2
   },
   "notebookName": "yellow_cab_tripdata",
   "widgets": {}
  }
 },
 "nbformat": 4,
 "nbformat_minor": 0
}
