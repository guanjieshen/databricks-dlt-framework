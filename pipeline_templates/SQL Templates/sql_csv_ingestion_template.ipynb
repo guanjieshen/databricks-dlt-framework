{
 "cells": [
  {
   "cell_type": "markdown",
   "metadata": {
    "application/vnd.databricks.v1+cell": {
     "cellMetadata": {},
     "inputWidgets": {},
     "nuid": "110b631f-8d58-411c-9cf2-3414e27bc6f6",
     "showTitle": false,
     "title": ""
    }
   },
   "source": [
    "### [User Input Required] Read CSV Source with Autoloader.\n",
    "\n",
    "__Common data loading patterns__: https://docs.databricks.com/en/ingestion/auto-loader/patterns.html\n",
    "\n",
    "__Autoloader Options for CSV__: https://docs.databricks.com/en/ingestion/auto-loader/options.html#csv-options\n",
    "\n",
    "__Common Autoloader Options__: https://docs.databricks.com/en/ingestion/auto-loader/options.html#common-auto-loader-options\n",
    "\n",
    "__Schema Evolution Modes__: https://docs.databricks.com/en/ingestion/auto-loader/schema.html#how-does-auto-loader-schema-evolution-work\n"
   ]
  },
  {
   "cell_type": "code",
   "execution_count": 0,
   "metadata": {
    "application/vnd.databricks.v1+cell": {
     "cellMetadata": {},
     "inputWidgets": {},
     "nuid": "10c04cf3-122c-4fb3-b83c-f47a373becd6",
     "showTitle": false,
     "title": ""
    }
   },
   "outputs": [],
   "source": [
    "CREATE TEMPORARY STREAMING LIVE VIEW autoloader_tmp_table AS\n",
    "SELECT\n",
    "  *\n",
    "FROM\n",
    "  STREAM READ_FILES(\n",
    "    'dbfs:/databricks-datasets/nyctaxi/tripdata/yellow',\n",
    "    format=>'csv',\n",
    "    header=>'true',\n",
    "    inferSchema=>'true',\n",
    "    delimiter=>',',\n",
    "    schemaEvolutionMode => 'addNewColumns',\n",
    "    rescuedDataColumn => '_rescued_data'  \n",
    "  );"
   ]
  },
  {
   "cell_type": "markdown",
   "metadata": {
    "application/vnd.databricks.v1+cell": {
     "cellMetadata": {},
     "inputWidgets": {},
     "nuid": "2ccd310d-0cbd-4715-bf64-10446c37ddf8",
     "showTitle": false,
     "title": ""
    }
   },
   "source": [
    "### [User Input Required] Transformations + Write Data to Unity Catalog"
   ]
  },
  {
   "cell_type": "code",
   "execution_count": 0,
   "metadata": {
    "application/vnd.databricks.v1+cell": {
     "cellMetadata": {},
     "inputWidgets": {},
     "nuid": "b7c2941b-8e93-4691-b8bb-58178a4c5a83",
     "showTitle": false,
     "title": ""
    }
   },
   "outputs": [],
   "source": [
    "CREATE OR REFRESH STREAMING TABLE bronze_nyctaxi_tripdata_yellow\n",
    "COMMENT \"NYC Taxi Trip Records - Yellow Taxi Trip Records\"\n",
    "AS SELECT * EXCEPT(` pickup_datetime`,` dropoff_datetime`,` passenger_count`,` trip_distance`,` pickup_longitude`,` pickup_latitude`,` rate_code`,` store_and_fwd_flag`,` dropoff_longitude`, ` dropoff_latitude`,` payment_type`,` fare_amount`,` mta_tax`,` tip_amount`,` tolls_amount`,` total_amount`, ` surcharge`) \n",
    "FROM stream(LIVE.autoloader_tmp_table)"
   ]
  }
 ],
 "metadata": {
  "application/vnd.databricks.v1+notebook": {
   "dashboards": [],
   "environmentMetadata": null,
   "language": "sql",
   "notebookMetadata": {
    "pythonIndentUnit": 2
   },
   "notebookName": "sql_csv_ingestion_template",
   "widgets": {}
  }
 },
 "nbformat": 4,
 "nbformat_minor": 0
}
