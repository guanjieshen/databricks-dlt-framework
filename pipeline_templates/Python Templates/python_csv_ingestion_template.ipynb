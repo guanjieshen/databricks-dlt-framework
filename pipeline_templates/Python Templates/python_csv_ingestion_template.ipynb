{
 "cells": [
  {
   "cell_type": "markdown",
   "metadata": {
    "application/vnd.databricks.v1+cell": {
     "cellMetadata": {},
     "inputWidgets": {},
     "nuid": "15eb9292-1b84-4331-87ab-a8e726774dbc",
     "showTitle": false,
     "title": ""
    }
   },
   "source": [
    "### [User Input Required] Read CSV Source with Autoloader.\n",
    "\n",
    "__Common data loading patterns__: https://docs.databricks.com/en/ingestion/auto-loader/patterns.html\n",
    "\n",
    "__Autoloader Options for CSV__: https://docs.databricks.com/en/ingestion/auto-loader/options.html#csv-options\n",
    "\n",
    "__Common Autoloader Options__: https://docs.databricks.com/en/ingestion/auto-loader/options.html#common-auto-loader-options\n",
    "\n",
    "__Schema Evolution Modes__: https://docs.databricks.com/en/ingestion/auto-loader/schema.html#how-does-auto-loader-schema-evolution-work"
   ]
  },
  {
   "cell_type": "code",
   "execution_count": 0,
   "metadata": {
    "application/vnd.databricks.v1+cell": {
     "cellMetadata": {},
     "inputWidgets": {},
     "nuid": "ed6f848a-bab4-4403-9ab9-8c4cba3b06a1",
     "showTitle": false,
     "title": ""
    }
   },
   "outputs": [],
   "source": [
    "import dlt\n",
    "\n",
    "# [User Input Required] Set the input/output locations, metadata\n",
    "input_location = \"dbfs:/databricks-datasets/nyctaxi/tripdata/green\"\n",
    "output_table = \"bronze_nyctaxi_tripdata_green\"\n",
    "output_table_comments = \"Bronze data for green NYC taxi trips\"\n",
    "\n",
    "# [User Input Required] Configure schema evolution and rescue data.\n",
    "schema_evolution_mode = \"addNewColumns\"\n",
    "rescue_data_column_name = \"_rescued_data\"\n",
    "\n",
    "\n",
    "@dlt.view(name=f\"{output_table}_autoloader\")\n",
    "def tmp():\n",
    "  # [User Input Required] Configure Autoloader settings \n",
    "  df = (\n",
    "    spark.readStream.format(\"cloudFiles\")\n",
    "    .option(\"cloudFiles.format\", \"csv\")\n",
    "    .option(\"cloudFiles.schemaEvolutionMode\", schema_evolution_mode)\n",
    "    .option(\"cloudFiles.rescuedDataColumn\", rescue_data_column_name)\n",
    "    # Add additional autoloader settings below\n",
    "    # Add csv autoloader settings below\n",
    "    .option(\"header\", \"true\")\n",
    "    .option(\"inferSchema\",\"true\")\n",
    "    .load(input_location)\n",
    "  )\n",
    "  return df"
   ]
  },
  {
   "cell_type": "markdown",
   "metadata": {
    "application/vnd.databricks.v1+cell": {
     "cellMetadata": {},
     "inputWidgets": {},
     "nuid": "3d3175a4-9dc1-4ecb-89ef-1ba6c37ff341",
     "showTitle": false,
     "title": ""
    }
   },
   "source": [
    "### [Optional User Input Required] Transformations + Write Data to Unity Catalog"
   ]
  },
  {
   "cell_type": "code",
   "execution_count": 0,
   "metadata": {
    "application/vnd.databricks.v1+cell": {
     "cellMetadata": {},
     "inputWidgets": {},
     "nuid": "eeaaeb90-4692-4992-96c8-c9b3bf760257",
     "showTitle": false,
     "title": ""
    }
   },
   "outputs": [],
   "source": [
    "@dlt.table(name=output_table, comment=output_table_comments)\n",
    "def t():\n",
    "    # Read data from temporary autoloader table\n",
    "    df = spark.readStream.table(f\"live.{output_table}_autoloader\")\n",
    "\n",
    "    # [User Input Required] Optional Transformations\n",
    "    ## Rename Trip_type column to remove trailing space\n",
    "    df = df.withColumnRenamed(\"Trip_type \", \"trip_type\").drop(\"trip_type\")\n",
    "    return df"
   ]
  }
 ],
 "metadata": {
  "application/vnd.databricks.v1+notebook": {
   "dashboards": [],
   "environmentMetadata": null,
   "language": "python",
   "notebookMetadata": {
    "pythonIndentUnit": 2
   },
   "notebookName": "python_csv_ingestion_template",
   "widgets": {}
  }
 },
 "nbformat": 4,
 "nbformat_minor": 0
}
